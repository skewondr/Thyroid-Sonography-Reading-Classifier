{
 "cells": [
  {
   "cell_type": "code",
   "execution_count": 1,
   "metadata": {},
   "outputs": [],
   "source": [
    "import pandas as pd"
   ]
  },
  {
   "cell_type": "code",
   "execution_count": 2,
   "metadata": {},
   "outputs": [],
   "source": [
    "#주어진 개수 인수에 따라 train, dev, test dataset을 나누는 기능. "
   ]
  },
  {
   "cell_type": "code",
   "execution_count": 3,
   "metadata": {},
   "outputs": [],
   "source": [
    "#데이터 내 라벨 분포 확인하기 위한 함수\n",
    "def countLabel(data):\n",
    "    class0 = sum(data['label']==0)\n",
    "    class1 =  sum(data['label']==1)\n",
    "    class2 =  sum(data['label']==2)\n",
    "    \n",
    "    return class0, class1, class2"
   ]
  },
  {
   "cell_type": "code",
   "execution_count": 4,
   "metadata": {},
   "outputs": [],
   "source": [
    "def split_data(df, train_num, dev_num, test_num, uneven=False):\n",
    "    \n",
    "    seed=100\n",
    "    class0, class1, class2 = countLabel(df)\n",
    "    \n",
    "    \"\"\"test data set\"\"\"\n",
    "    remain_df = df.copy()\n",
    "    df0 = df.loc[(df['label']==0)].sample(n = test_num, random_state = seed) \n",
    "    remain_df = remain_df.drop(df0.index)\n",
    "    \n",
    "    df1 = df.loc[(df['label']==1)].sample(n = test_num, random_state = seed) \n",
    "    remain_df = remain_df.drop(df1.index)\n",
    "\n",
    "    df2 = df.loc[(df['label']==2)].sample(n = test_num, random_state = seed) \n",
    "    remain_df = remain_df.drop(df2.index)\n",
    "\n",
    "    remain_df.reset_index(drop=True, inplace=True)\n",
    "    test_df = pd.DataFrame()\n",
    "    test_df = df0.append(df1).append(df2)\n",
    "    test_df.reset_index(drop=True, inplace=True)\n",
    "    \n",
    "    \"\"\"dev data set\"\"\"\n",
    "    df0=remain_df.loc[(remain_df['label']==0)].sample(n = dev_num, random_state = seed) \n",
    "    remain_df = remain_df.drop(df0.index)\n",
    "   \n",
    "    df1=remain_df.loc[(remain_df['label']==1)].sample(n = dev_num, random_state = seed) \n",
    "    remain_df = remain_df.drop(df1.index)\n",
    "\n",
    "    df2=remain_df.loc[(remain_df['label']==2)].sample(n = dev_num, random_state = seed) \n",
    "    remain_df = remain_df.drop(df2.index)\n",
    "   \n",
    "    remain_df.reset_index(drop=True, inplace=True)\n",
    "    eval_df = pd.DataFrame()\n",
    "    eval_df = df0.append(df1).append(df2)\n",
    "    eval_df.reset_index(drop=True, inplace=True)\n",
    "    \n",
    "    \"\"\"train data set\"\"\"\n",
    "    train_df = remain_df.copy()   \n",
    "    if uneven == True: return train_df, eval_df, test_df\n",
    "    \n",
    "    sub0, sub1, sub2 = countLabel(remain_df)\n",
    "    d_n=[]\n",
    "    for sub in [sub0, sub1, sub2]:\n",
    "        if train_num>sub:\n",
    "            d_n.append(sub)\n",
    "        else : d_n.append(train_num)\n",
    "    \n",
    "    df0=remain_df.loc[(remain_df['label']==0)].sample(n = d_n[0], random_state = seed) \n",
    "    df1=remain_df.loc[(remain_df['label']==1)].sample(n = d_n[1], random_state = seed) \n",
    "    df2=remain_df.loc[(remain_df['label']==2)].sample(n = d_n[2], random_state = seed) \n",
    "  \n",
    "    train_df = pd.DataFrame()\n",
    "    train_df = df0.append(df1).append(df2)\n",
    "    \n",
    "    #모자란 개수 upsampling \n",
    "    for index, num in enumerate(d_n):\n",
    "        sub = train_num-num\n",
    "        if sub>0:\n",
    "            #print(train_num-num)\n",
    "            over_df = remain_df.loc[(remain_df['label']==index)].sample(n = sub, random_state = seed)\n",
    "            train_df = train_df.append(over_df)\n",
    "            print(\"we add %d to train_df.\"%(sub))\n",
    "        \n",
    "    train_df.reset_index(drop=True, inplace=True)\n",
    "\n",
    "    return train_df, eval_df, test_df\n"
   ]
  },
  {
   "cell_type": "code",
   "execution_count": 5,
   "metadata": {},
   "outputs": [],
   "source": [
    "def make_file(train_df, dev_df, test_df, data_dir): \n",
    "    train_df.to_csv(data_dir  + 'train.tsv', index=False, header=True, sep='\\t')\n",
    "    dev_df.to_csv(data_dir  +  'dev.tsv', index=False, header=True, sep='\\t')\n",
    "    test_df.to_csv(data_dir +  'test.tsv', index=False, header=True, sep='\\t')"
   ]
  },
  {
   "cell_type": "code",
   "execution_count": 6,
   "metadata": {},
   "outputs": [],
   "source": [
    "#main\n",
    "def main(data_dir, data_file): #입력 데이터 이름 \n",
    "    data = pd.read_csv(data_dir+data_file, sep='\\t') #data의 header는 text, label 두 가지로 이루어져 있다.\n",
    "    #uneven - even\n",
    "    train1, dev1, test1 = split_data(data, 0,12,25, True)\n",
    "    make_file(train1, dev1, test1, data_dir+'uneven-even/')\n",
    "    #even - even\n",
    "    train2, dev2, test2 = split_data(data, 90, 12, 25, False)\n",
    "    make_file(train2, dev2, test2, data_dir+'even-even/')\n",
    "    #(up)even - even\n",
    "    train3, dev3, test3 = split_data(data, 145,12,25, False)\n",
    "    make_file(train3, dev3, test3, data_dir+'upeven-even/')\n",
    "    "
   ]
  },
  {
   "cell_type": "code",
   "execution_count": 7,
   "metadata": {},
   "outputs": [
    {
     "name": "stdout",
     "output_type": "stream",
     "text": [
      "we add 55 to train_df.\n"
     ]
    }
   ],
   "source": [
    "main(\"../data/\" ,'Thyroid_bind.tsv')"
   ]
  },
  {
   "cell_type": "code",
   "execution_count": 7,
   "metadata": {},
   "outputs": [
    {
     "name": "stdout",
     "output_type": "stream",
     "text": [
      "1307 76.35807192042846 13.925019127773528 9.716908951798011\n"
     ]
    }
   ],
   "source": [
    "import pandas as pd\n",
    "\n",
    "data = pd.read_csv(\"../data/Thyroid_bind.tsv\", sep='\\t') \n",
    "class0, class1, class2 = countLabel(data)\n",
    "total = class0+ class1+ class2\n",
    "print(total, class0/total*100, class1/total*100, class2/total*100)"
   ]
  },
  {
   "cell_type": "code",
   "execution_count": null,
   "metadata": {},
   "outputs": [],
   "source": []
  },
  {
   "cell_type": "code",
   "execution_count": null,
   "metadata": {},
   "outputs": [],
   "source": []
  },
  {
   "cell_type": "code",
   "execution_count": null,
   "metadata": {},
   "outputs": [],
   "source": []
  },
  {
   "cell_type": "code",
   "execution_count": null,
   "metadata": {},
   "outputs": [],
   "source": []
  },
  {
   "cell_type": "code",
   "execution_count": null,
   "metadata": {},
   "outputs": [],
   "source": []
  }
 ],
 "metadata": {
  "kernelspec": {
   "display_name": "medinfo",
   "language": "python",
   "name": "medinfo"
  },
  "language_info": {
   "codemirror_mode": {
    "name": "ipython",
    "version": 3
   },
   "file_extension": ".py",
   "mimetype": "text/x-python",
   "name": "python",
   "nbconvert_exporter": "python",
   "pygments_lexer": "ipython3",
   "version": "3.7.7"
  }
 },
 "nbformat": 4,
 "nbformat_minor": 4
}
